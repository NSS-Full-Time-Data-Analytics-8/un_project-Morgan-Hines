{
 "cells": [
  {
   "cell_type": "markdown",
   "id": "5b9b059a",
   "metadata": {},
   "source": [
    "1. Create a `data` folder in your local project repository.  \n",
    "\n",
    "2. Download these two CSV files and place them in the data folder:\n",
    "\n",
    "    a.\tGross Domestic Product (GDP) per capita http://data.un.org/Data.aspx?d=WDI&f=Indicator_Code%3aNY.GDP.PCAP.PP.KD **DO NOT APPLY ANY FILTERS**\n",
    "     - rename the file to `gdp_percapita.csv`\n",
    "     - open it with a text editor (**not excel**) and take a look\n",
    "\n",
    "    b.\tPercentage of Individuals using the Internet http://data.un.org/Data.aspx?d=ITU&f=ind1Code%3aI99H  **DO NOT APPLY ANY FILTERS**\n",
    "     - rename the file to `internet_use.csv`\n",
    "     - open it with a text editor (**not excel**) and take a look\n",
    "\n",
    "2.\tLaunch a Jupyter Notebook. \n",
    " - _*IMPORTANT:  You are likely to get errors along the way. When you do, read the errors to try to understand what is happening and how to correct it.*_\n",
    "  - Use markdown cells to record your answers to any questions asked in this exercise. On the menu bar, you can toggle the cell type from `Code` to `Markdown`."
   ]
  },
  {
   "cell_type": "markdown",
   "id": "ac8c93f6",
   "metadata": {},
   "source": [
    "3. Import the required packages with their customary aliases as follows:\n",
    "\n",
    "    `import pandas as pd`   \n",
    "    `import numpy as np`  \n",
    "    `import matplotlib.pyplot as plt`  \n",
    "    `import seaborn as sns`\n",
    "    \n",
    "4. Use the `%matplotlib inline` magic command so that your plots show in the notebook _without_ having to call `plt.show()` every time."
   ]
  },
  {
   "cell_type": "code",
   "execution_count": null,
   "id": "66609787",
   "metadata": {},
   "outputs": [],
   "source": [
    "import pandas as pd\n",
    "import numpy as np\n",
    "import matplotlib.pyplot as plt\n",
    "import seaborn as sns\n",
    "%matplotlib inline"
   ]
  },
  {
   "cell_type": "markdown",
   "id": "6621e36f",
   "metadata": {},
   "source": [
    "5.\tUsing the pandas `read_csv()` method, read the GDP dataset into your notebook as a DataFrame called `gdp_df`. Take a look at the first 6 rows."
   ]
  },
  {
   "cell_type": "code",
   "execution_count": null,
   "id": "65e74fd1",
   "metadata": {},
   "outputs": [],
   "source": [
    "gdp_df = pd.read_csv('../data/gdp_percapita.csv')\n",
    "gdp_df.head(6)"
   ]
  },
  {
   "cell_type": "markdown",
   "id": "a41b9b43",
   "metadata": {},
   "source": [
    "6. Repeat for the internet use dataset. Call this DataFrame `internet_df`. Take a look at the first six rows."
   ]
  },
  {
   "cell_type": "code",
   "execution_count": null,
   "id": "c5452def",
   "metadata": {},
   "outputs": [],
   "source": [
    "internet_df = pd.read_csv('../data/internet_use.csv', nrows = 4495)\n",
    "internet_df.head(6)\n",
    "internet_df.tail(2)"
   ]
  },
  {
   "cell_type": "markdown",
   "id": "55ea6e10",
   "metadata": {},
   "source": [
    "98. Look at the shape of each DataFrame - how many rows? How many columns?"
   ]
  },
  {
   "cell_type": "code",
   "execution_count": null,
   "id": "85d65d61",
   "metadata": {},
   "outputs": [],
   "source": [
    "gdp_df.shape"
   ]
  },
  {
   "cell_type": "code",
   "execution_count": null,
   "id": "27d6d88b",
   "metadata": {},
   "outputs": [],
   "source": [
    "internet_df.shape"
   ]
  },
  {
   "cell_type": "markdown",
   "id": "d65c033b",
   "metadata": {},
   "source": [
    "6.\tTake a look at the datatypes for the columns in each DataFrame."
   ]
  },
  {
   "cell_type": "code",
   "execution_count": null,
   "id": "eeb44959",
   "metadata": {},
   "outputs": [],
   "source": [
    "gdp_df.dtypes"
   ]
  },
  {
   "cell_type": "code",
   "execution_count": null,
   "id": "c80c6d85",
   "metadata": {},
   "outputs": [],
   "source": [
    "internet_df.dtypes"
   ]
  },
  {
   "cell_type": "markdown",
   "id": "7872e71c",
   "metadata": {},
   "source": [
    "99. Take a look at the last 10 rows of each DataFrame in turn."
   ]
  },
  {
   "cell_type": "code",
   "execution_count": null,
   "id": "45273d93",
   "metadata": {},
   "outputs": [],
   "source": [
    "gdp_df.tail(10)"
   ]
  },
  {
   "cell_type": "code",
   "execution_count": null,
   "id": "cd4e81f2",
   "metadata": {},
   "outputs": [],
   "source": [
    "internet_df.tail(10)"
   ]
  },
  {
   "cell_type": "markdown",
   "id": "bdbd5214",
   "metadata": {},
   "source": [
    "7.\tDrop the `value footnotes` column from both DataFrames. Check that this worked as expected.\n"
   ]
  },
  {
   "cell_type": "code",
   "execution_count": null,
   "id": "ac82f496",
   "metadata": {
    "scrolled": true
   },
   "outputs": [],
   "source": [
    "gdp_df.columns\n",
    "gdp_df = gdp_df.drop(columns = ['Value Footnotes'])\n",
    "gdp_df.head()"
   ]
  },
  {
   "cell_type": "code",
   "execution_count": null,
   "id": "d67f19c1",
   "metadata": {},
   "outputs": [],
   "source": [
    "internet_df.columns\n",
    "internet_df = internet_df.drop(columns = ['Value Footnotes'])\n",
    "internet_df.head()"
   ]
  },
  {
   "cell_type": "markdown",
   "id": "be6e1ba0",
   "metadata": {},
   "source": [
    "8.\tChange the columns for the GDP Per Capita DataFrame to ‘Country’, ‘Year’, and ‘GDP_Per_Capita’."
   ]
  },
  {
   "cell_type": "code",
   "execution_count": null,
   "id": "e357c635",
   "metadata": {
    "scrolled": true
   },
   "outputs": [],
   "source": [
    "gdp_df.columns = ['Country', 'Year', 'GDP_Per_Capita']\n",
    "gdp_df.head()"
   ]
  },
  {
   "cell_type": "markdown",
   "id": "5d371072",
   "metadata": {},
   "source": [
    "9. Change the columns for the Internet Users DataFrame to ‘Country’, ‘Year’, and ‘Internet_Users_Pct’."
   ]
  },
  {
   "cell_type": "code",
   "execution_count": null,
   "id": "5ab7345c",
   "metadata": {},
   "outputs": [],
   "source": [
    "internet_df.columns = ['Country', 'Year', 'Internet_Per_Capita']\n",
    "internet_df.head()"
   ]
  },
  {
   "cell_type": "markdown",
   "id": "9cf3343d",
   "metadata": {},
   "source": [
    "10.\tMerge the two DataFrames to one. Merge **all rows** from each of the two DataFrames. Call the new DataFrame `gdp_and_internet_use`."
   ]
  },
  {
   "cell_type": "code",
   "execution_count": null,
   "id": "7293ac3a",
   "metadata": {},
   "outputs": [],
   "source": [
    "gdp_and_internet_use = pd.merge(gdp_df,internet_df, on = ['Country' , 'Year'], how = 'inner')"
   ]
  },
  {
   "cell_type": "markdown",
   "id": "ac0d77b1",
   "metadata": {},
   "source": [
    "11.\tLook at the first five rows of your new DataFrame to confirm it merged correctly."
   ]
  },
  {
   "cell_type": "code",
   "execution_count": null,
   "id": "50eb6124",
   "metadata": {},
   "outputs": [],
   "source": [
    "gdp_and_internet_use.head(5)"
   ]
  },
  {
   "cell_type": "markdown",
   "id": "e8cdb3a7",
   "metadata": {},
   "source": [
    "12.\tLook at the last five rows to make sure the data is clean and as expected.\n"
   ]
  },
  {
   "cell_type": "code",
   "execution_count": null,
   "id": "2c3fc1d1",
   "metadata": {},
   "outputs": [],
   "source": [
    "gdp_and_internet_use.tail(5)"
   ]
  },
  {
   "cell_type": "markdown",
   "id": "9e039f6f",
   "metadata": {},
   "source": [
    "13.\tSubset the combined DataFrame to keep only the data for 2004, 2009, and 2014. Check that this happened correctly."
   ]
  },
  {
   "cell_type": "code",
   "execution_count": null,
   "id": "4116a519",
   "metadata": {},
   "outputs": [],
   "source": [
    "gdp_and_internet_use.dtypes\n",
    "yearslist = [2004, 2009, 2014]\n",
    "gdp_internet_2004_2009_2014 = gdp_and_internet_use.query(\"Year in @yearslist\")\n",
    "gdp_internet_2004_2009_2014.head(5)"
   ]
  },
  {
   "cell_type": "markdown",
   "id": "cad1cec6",
   "metadata": {},
   "source": [
    "14.\tCreate three new DataFrames, one for 2004, one for 2009, and one for 2014. Give them meaningful names that aren't too long."
   ]
  },
  {
   "cell_type": "code",
   "execution_count": null,
   "id": "6b6bce21",
   "metadata": {},
   "outputs": [],
   "source": [
    "gdp_internet_2004 = gdp_internet_2004_2009_2014.loc[gdp_internet_2004_2009_2014['Year'] == 2004].reset_index(drop = True)\n",
    "gdp_internet_2004.head(1)"
   ]
  },
  {
   "cell_type": "code",
   "execution_count": null,
   "id": "1b0e4175",
   "metadata": {},
   "outputs": [],
   "source": [
    "gdp_internet_2009 = gdp_internet_2004_2009_2014.loc[gdp_internet_2004_2009_2014['Year'] == 2009].reset_index(drop = True)\n",
    "gdp_internet_2009.head(1)"
   ]
  },
  {
   "cell_type": "code",
   "execution_count": null,
   "id": "8d620604",
   "metadata": {},
   "outputs": [],
   "source": [
    "gdp_internet_2014 = gdp_internet_2004_2009_2014.loc[gdp_internet_2004_2009_2014['Year'] == 2014].reset_index(drop = True)\n",
    "gdp_internet_2014.head(1)"
   ]
  },
  {
   "cell_type": "markdown",
   "id": "b85e6ae1",
   "metadata": {},
   "source": [
    "15.\tWhich country had the highest percentage of internet users in 2014? What was the percentage? (Try typing the first 3 letters of your DataFrame name and hitting the tab key for auto-complete options)."
   ]
  },
  {
   "cell_type": "code",
   "execution_count": null,
   "id": "3cc20b90",
   "metadata": {},
   "outputs": [],
   "source": [
    "gdp_internet_2014.loc[gdp_internet_2014['Internet_Per_Capita'] == gdp_internet_2014.Internet_Per_Capita.max()]"
   ]
  },
  {
   "cell_type": "markdown",
   "id": "2abf981e",
   "metadata": {},
   "source": [
    "16.\tWhich country had the lowest percentage of internet users in 2014? What was the percentage?"
   ]
  },
  {
   "cell_type": "code",
   "execution_count": null,
   "id": "21c08369",
   "metadata": {},
   "outputs": [],
   "source": [
    "gdp_internet_2014.loc[gdp_internet_2014['Internet_Per_Capita'] == gdp_internet_2014.Internet_Per_Capita.min()]"
   ]
  },
  {
   "cell_type": "markdown",
   "id": "61a1a028",
   "metadata": {},
   "source": [
    "17.\tRepeat for 2004 and 2009."
   ]
  },
  {
   "cell_type": "code",
   "execution_count": null,
   "id": "857f67d7",
   "metadata": {},
   "outputs": [],
   "source": [
    "gdp_internet_2009.loc[gdp_internet_2009['Internet_Per_Capita'] == gdp_internet_2009.Internet_Per_Capita.min()]"
   ]
  },
  {
   "cell_type": "code",
   "execution_count": null,
   "id": "63c80c01",
   "metadata": {},
   "outputs": [],
   "source": [
    "gdp_internet_2004.loc[gdp_internet_2004['Internet_Per_Capita'] == gdp_internet_2004.Internet_Per_Capita.min()]"
   ]
  },
  {
   "cell_type": "markdown",
   "id": "1c77fd0b",
   "metadata": {},
   "source": [
    "18.\tWhich country had the highest gdp per capita in 2014? What was the gdp per capita?"
   ]
  },
  {
   "cell_type": "code",
   "execution_count": null,
   "id": "3fe475a8",
   "metadata": {
    "scrolled": true
   },
   "outputs": [],
   "source": [
    "gdp_internet_2014.loc[gdp_internet_2014['GDP_Per_Capita'] == gdp_internet_2014.GDP_Per_Capita.max()]"
   ]
  },
  {
   "cell_type": "code",
   "execution_count": null,
   "id": "2892e78f",
   "metadata": {},
   "outputs": [],
   "source": [
    "gdp_internet_2014.GDP_Per_Capita.max()"
   ]
  },
  {
   "cell_type": "markdown",
   "id": "dc6a9c71",
   "metadata": {},
   "source": [
    "20.\tWhich country had the lowest gdp per capita in 2014? What was the gdp per capita?"
   ]
  },
  {
   "cell_type": "code",
   "execution_count": null,
   "id": "47e5b2eb",
   "metadata": {
    "scrolled": true
   },
   "outputs": [],
   "source": [
    "gdp_internet_2014.loc[gdp_internet_2014['GDP_Per_Capita'] == gdp_internet_2014.GDP_Per_Capita.min()]"
   ]
  },
  {
   "cell_type": "code",
   "execution_count": null,
   "id": "e2e00d8b",
   "metadata": {},
   "outputs": [],
   "source": [
    "gdp_internet_2014.GDP_Per_Capita.min()"
   ]
  },
  {
   "cell_type": "markdown",
   "id": "7e034335",
   "metadata": {},
   "source": [
    "21.\tCreate some scatterplots:  \n",
    "    a.  2004 Percent Using the Internet vs GDP Per Capita  \n",
    "    b.\t2009 Percent Using the Internet vs GDP Per Capita  \n",
    "    c.\t2014 Percent Using the Internet vs GDP Per Capita "
   ]
  },
  {
   "cell_type": "code",
   "execution_count": null,
   "id": "38f8b7c8",
   "metadata": {},
   "outputs": [],
   "source": [
    "plt.scatter(x = 'Internet_Per_Capita', y = 'GDP_Per_Capita', data = gdp_internet_2004)"
   ]
  },
  {
   "cell_type": "code",
   "execution_count": null,
   "id": "fe157dac",
   "metadata": {},
   "outputs": [],
   "source": [
    "plt.scatter(x = 'Internet_Per_Capita', y = 'GDP_Per_Capita', data = gdp_internet_2009)"
   ]
  },
  {
   "cell_type": "code",
   "execution_count": null,
   "id": "d8ee109b",
   "metadata": {},
   "outputs": [],
   "source": [
    "plt.scatter(x = 'Internet_Per_Capita', y = 'GDP_Per_Capita', data = gdp_internet_2014)"
   ]
  },
  {
   "cell_type": "markdown",
   "id": "51aee18d",
   "metadata": {},
   "source": [
    "22.\tAre there differences across years? What do the plots tell you about any relationship between these two variables? Enter your observations as a markdown cell."
   ]
  },
  {
   "cell_type": "markdown",
   "id": "3779e7fe",
   "metadata": {},
   "source": [
    "There does seem to be a correlation between these two variables. The internet usage per capita goes up as the GDP per capita grows. Also the correlations seem to get stronger with time."
   ]
  },
  {
   "cell_type": "markdown",
   "id": "2db9dc79",
   "metadata": {},
   "source": [
    "23.\tLook at the distribution of gdp per capita values for 2014. Is it unimodal?"
   ]
  },
  {
   "cell_type": "code",
   "execution_count": null,
   "id": "9b3c500f",
   "metadata": {},
   "outputs": [],
   "source": [
    "print('GDP Per Capita is unimodal')\n",
    "plt.hist(x = 'GDP_Per_Capita', data = gdp_internet_2014)"
   ]
  },
  {
   "cell_type": "markdown",
   "id": "fe5e35f1",
   "metadata": {},
   "source": [
    "24.\tLook at the distribution of Internet Use for 2014. Is it unimodal?"
   ]
  },
  {
   "cell_type": "code",
   "execution_count": null,
   "id": "b64f019d",
   "metadata": {},
   "outputs": [],
   "source": [
    "print('Internet Per Capita is NOT unimodal')\n",
    "plt.hist(x = 'Internet_Per_Capita', data = gdp_internet_2014)"
   ]
  },
  {
   "cell_type": "markdown",
   "id": "d28eb1c7",
   "metadata": {},
   "source": [
    "25.\tWhat are the top 5 countries in terms of internet use in 2014?"
   ]
  },
  {
   "cell_type": "code",
   "execution_count": null,
   "id": "f5b4f11c",
   "metadata": {},
   "outputs": [],
   "source": [
    "gdp_internet_2014.nlargest(5, 'Internet_Per_Capita')"
   ]
  },
  {
   "cell_type": "markdown",
   "id": "1dcfb428",
   "metadata": {},
   "source": [
    "26.\tCreate a DataFrame called top_5_internet **from the combined DataFrame that has all three years _for the 5 countries that had the greatest 2014 internet usage_**. You should have 15 rows. Check that this is true."
   ]
  },
  {
   "cell_type": "code",
   "execution_count": null,
   "id": "bc883213",
   "metadata": {},
   "outputs": [],
   "source": [
    "%who"
   ]
  },
  {
   "cell_type": "code",
   "execution_count": null,
   "id": "0762b63d",
   "metadata": {},
   "outputs": [],
   "source": [
    "top_5_internet = gdp_internet_2004_2009_2014.loc[(gdp_internet_2004_2009_2014.Country == 'Iceland') | (gdp_internet_2004_2009_2014.Country == 'Bermuda') | (gdp_internet_2004_2009_2014.Country == 'Norway') | (gdp_internet_2004_2009_2014.Country == 'Denmark') | (gdp_internet_2004_2009_2014.Country == 'Luxembourg')]"
   ]
  },
  {
   "cell_type": "code",
   "execution_count": null,
   "id": "7c20992c",
   "metadata": {},
   "outputs": [],
   "source": [
    "top_5_internet"
   ]
  },
  {
   "cell_type": "markdown",
   "id": "98cd4c86",
   "metadata": {},
   "source": [
    "27.\tCreate a seaborn FacetGrid to show the internet usage trend across the years 2004, 2009, and 2014 for these 5 countries (those with the highest reported internet use in 2014). Which country had the greatest growth between 2004 and 2014?"
   ]
  },
  {
   "cell_type": "markdown",
   "id": "41ab9779",
   "metadata": {},
   "source": [
    "Bermuda"
   ]
  },
  {
   "cell_type": "code",
   "execution_count": null,
   "id": "d55b1c92",
   "metadata": {},
   "outputs": [],
   "source": [
    "g_top_5_internet = sns.FacetGrid(top_5_internet, col=\"Country\", ylim = (0,100))\n",
    "g_top_5_internet.map_dataframe(sns.lineplot, x=\"Year\", y=\"Internet_Per_Capita\")"
   ]
  },
  {
   "cell_type": "markdown",
   "id": "abb19c8e",
   "metadata": {},
   "source": [
    "28.\tRepeat the steps above to look at the trend for the 5 countries with the lowest 2014 internet usage. Which country has consistently had the least internet use?"
   ]
  },
  {
   "cell_type": "markdown",
   "id": "22f71f9e",
   "metadata": {},
   "source": [
    "Burundi"
   ]
  },
  {
   "cell_type": "code",
   "execution_count": null,
   "id": "5d4e6031",
   "metadata": {
    "scrolled": true
   },
   "outputs": [],
   "source": [
    "gdp_internet_2014.nsmallest(5, 'Internet_Per_Capita')"
   ]
  },
  {
   "cell_type": "code",
   "execution_count": null,
   "id": "e01f5468",
   "metadata": {},
   "outputs": [],
   "source": [
    "bottom_5_internet = gdp_internet_2004_2009_2014.loc[(gdp_internet_2004_2009_2014.Country == 'Timor-Leste') | (gdp_internet_2004_2009_2014.Country == 'Burundi') | (gdp_internet_2004_2009_2014.Country == 'Somalia') | (gdp_internet_2004_2009_2014.Country == 'Guinea') | (gdp_internet_2004_2009_2014.Country == 'Niger')]"
   ]
  },
  {
   "cell_type": "code",
   "execution_count": null,
   "id": "e9a681fb",
   "metadata": {
    "scrolled": true
   },
   "outputs": [],
   "source": [
    "bottom_5_internet"
   ]
  },
  {
   "cell_type": "code",
   "execution_count": null,
   "id": "e999333d",
   "metadata": {},
   "outputs": [],
   "source": [
    "g_bottom_5_internet = sns.FacetGrid(bottom_5_internet, col=\"Country\", ylim = (0,5))\n",
    "g_bottom_5_internet.map_dataframe(sns.lineplot, x=\"Year\", y=\"Internet_Per_Capita\")"
   ]
  },
  {
   "cell_type": "markdown",
   "id": "26aec662",
   "metadata": {},
   "source": [
    "29.\tFind the top 5 countries for 2014 in terms of GDP per capita; create a DataFrame to look at 10-year trends (use 2004, 2009, 2014 to look at the 10-year trend) in gdp per capita for the 5 countries with the highest 2014 GDP per capita. Use a seaborn facet grid for this."
   ]
  },
  {
   "cell_type": "code",
   "execution_count": null,
   "id": "44b497af",
   "metadata": {},
   "outputs": [],
   "source": [
    "gdp_internet_2014.nlargest(5, 'GDP_Per_Capita')\n",
    "top_5_GDP = gdp_internet_2004_2009_2014.loc[(gdp_internet_2004_2009_2014.Country == 'Luxembourg') | (gdp_internet_2004_2009_2014.Country == 'Qatar') | (gdp_internet_2004_2009_2014.Country == 'Singapore') | (gdp_internet_2004_2009_2014.Country == 'Bermuda') | (gdp_internet_2004_2009_2014.Country == 'Switzerland')]\n",
    "g_top_5_GDP = sns.FacetGrid(top_5_GDP, col=\"Country\", ylim = (0,120000))\n",
    "g_top_5_GDP.map_dataframe(sns.lineplot, x=\"Year\", y=\"GDP_Per_Capita\")"
   ]
  },
  {
   "cell_type": "markdown",
   "id": "1ba974e8",
   "metadata": {},
   "source": [
    "96. Repeat this one more time to look at 10-year trend for the 5 countries for 2014 with the lowest GDP per capita."
   ]
  },
  {
   "cell_type": "code",
   "execution_count": null,
   "id": "dd283c3b",
   "metadata": {},
   "outputs": [],
   "source": [
    "gdp_internet_2014.nsmallest(5, 'GDP_Per_Capita')\n",
    "bottom_5_GDP = gdp_internet_2004_2009_2014.loc[(gdp_internet_2004_2009_2014.Country == 'Burundi') | (gdp_internet_2004_2009_2014.Country == 'Somalia') | (gdp_internet_2004_2009_2014.Country == 'Niger') | (gdp_internet_2004_2009_2014.Country == 'Mozambique') | (gdp_internet_2004_2009_2014.Country == 'Malawi')]\n",
    "g_bottom_5_GDP = sns.FacetGrid(bottom_5_GDP, col=\"Country\",ylim = (0,3000))\n",
    "g_bottom_5_GDP.map_dataframe(sns.lineplot, x=\"Year\", y=\"GDP_Per_Capita\")"
   ]
  },
  {
   "cell_type": "markdown",
   "id": "c64d6cc4",
   "metadata": {},
   "source": [
    "30.\tIs there anything surprising or unusual in any of these plots? Searching on the internet, can you find any possible explanations for unusual findings?"
   ]
  },
  {
   "cell_type": "markdown",
   "id": "22407e6a",
   "metadata": {},
   "source": [
    "### Bonus exercise:\n",
    "1.    Download another data set from the UN data (http://data.un.org/Explorer.aspx) to merge with your data and explore."
   ]
  },
  {
   "cell_type": "code",
   "execution_count": null,
   "id": "984a268b",
   "metadata": {},
   "outputs": [],
   "source": []
  }
 ],
 "metadata": {
  "kernelspec": {
   "display_name": "Python 3 (ipykernel)",
   "language": "python",
   "name": "python3"
  },
  "language_info": {
   "codemirror_mode": {
    "name": "ipython",
    "version": 3
   },
   "file_extension": ".py",
   "mimetype": "text/x-python",
   "name": "python",
   "nbconvert_exporter": "python",
   "pygments_lexer": "ipython3",
   "version": "3.9.7"
  }
 },
 "nbformat": 4,
 "nbformat_minor": 5
}
